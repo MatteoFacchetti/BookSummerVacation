{
 "cells": [
  {
   "cell_type": "markdown",
   "metadata": {
    "toc": true
   },
   "source": [
    "<h1>Table of Contents<span class=\"tocSkip\"></span></h1>\n",
    "<div class=\"toc\"><ul class=\"toc-item\"><li><span><a href=\"#Walkthrough\" data-toc-modified-id=\"Walkthrough-1\"><span class=\"toc-item-num\">1&nbsp;&nbsp;</span>Walkthrough</a></span><ul class=\"toc-item\"><li><span><a href=\"#Collect-house-prices\" data-toc-modified-id=\"Collect-house-prices-1.1\"><span class=\"toc-item-num\">1.1&nbsp;&nbsp;</span>Collect house prices</a></span></li><li><span><a href=\"#Collect-house-links\" data-toc-modified-id=\"Collect-house-links-1.2\"><span class=\"toc-item-num\">1.2&nbsp;&nbsp;</span>Collect house links</a></span></li><li><span><a href=\"#Collect-house-names\" data-toc-modified-id=\"Collect-house-names-1.3\"><span class=\"toc-item-num\">1.3&nbsp;&nbsp;</span>Collect house names</a></span></li><li><span><a href=\"#Complete-function-that-loops-for-each-city\" data-toc-modified-id=\"Complete-function-that-loops-for-each-city-1.4\"><span class=\"toc-item-num\">1.4&nbsp;&nbsp;</span>Complete function that loops for each city</a></span></li></ul></li><li><span><a href=\"#Complete-code\" data-toc-modified-id=\"Complete-code-2\"><span class=\"toc-item-num\">2&nbsp;&nbsp;</span>Complete code</a></span></li></ul></div>"
   ]
  },
  {
   "cell_type": "markdown",
   "metadata": {},
   "source": [
    "# Book your summer vacation and save money with Python and Web Scraping"
   ]
  },
  {
   "cell_type": "markdown",
   "metadata": {},
   "source": [
    "We all know how hard it is to find a cheap hotel or a cheap apartment when you are booking your summer vacation. Everybody ends up surfing plenty of websites, trying to find out which city has the cheapest options. This process is for sure tedious, boring and time-consuming.\n",
    "\n",
    "Luckily, if you have a little knowledge of Python, you can make this process incredibly fast. In this notebook, I will guide you step-by-step and show you how you can develop a simple program that, given a list of cities, will tell you what the cheapest hotels in these places are, ordered by price. Here is an example of the final output of this model:"
   ]
  },
  {
   "cell_type": "code",
   "execution_count": 52,
   "metadata": {},
   "outputs": [
    {
     "data": {
      "text/html": [
       "<div>\n",
       "<style scoped>\n",
       "    .dataframe tbody tr th:only-of-type {\n",
       "        vertical-align: middle;\n",
       "    }\n",
       "\n",
       "    .dataframe tbody tr th {\n",
       "        vertical-align: top;\n",
       "    }\n",
       "\n",
       "    .dataframe thead th {\n",
       "        text-align: right;\n",
       "    }\n",
       "</style>\n",
       "<table border=\"1\" class=\"dataframe\">\n",
       "  <thead>\n",
       "    <tr style=\"text-align: right;\">\n",
       "      <th></th>\n",
       "      <th>House</th>\n",
       "      <th>Price</th>\n",
       "      <th>Link</th>\n",
       "      <th>City</th>\n",
       "    </tr>\n",
       "  </thead>\n",
       "  <tbody>\n",
       "    <tr>\n",
       "      <th>0</th>\n",
       "      <td>Hotel Garden Lido</td>\n",
       "      <td>542</td>\n",
       "      <td>https://www.booking.com/hotel/it/grand-garden-...</td>\n",
       "      <td>Loano</td>\n",
       "    </tr>\n",
       "    <tr>\n",
       "      <th>1</th>\n",
       "      <td>Villa Tanca Luxury Collection</td>\n",
       "      <td>575</td>\n",
       "      <td>https://www.booking.com/hotel/it/villa-tanca-l...</td>\n",
       "      <td>Monterosso</td>\n",
       "    </tr>\n",
       "    <tr>\n",
       "      <th>2</th>\n",
       "      <td>trilocale arredato</td>\n",
       "      <td>651</td>\n",
       "      <td>https://www.booking.com/hotel/it/trilocale-arr...</td>\n",
       "      <td>Loano</td>\n",
       "    </tr>\n",
       "    <tr>\n",
       "      <th>3</th>\n",
       "      <td>Locazione turistica Casa Nives (IMP169)</td>\n",
       "      <td>749</td>\n",
       "      <td>https://www.booking.com/hotel/it/locazione-tur...</td>\n",
       "      <td>Imperia</td>\n",
       "    </tr>\n",
       "    <tr>\n",
       "      <th>4</th>\n",
       "      <td>Casa Franco</td>\n",
       "      <td>765</td>\n",
       "      <td>https://www.booking.com/hotel/it/casa-franco-f...</td>\n",
       "      <td>Loano</td>\n",
       "    </tr>\n",
       "    <tr>\n",
       "      <th>5</th>\n",
       "      <td>Appartamenti Tra gli Ulivi</td>\n",
       "      <td>770</td>\n",
       "      <td>https://www.booking.com/hotel/it/appartamenti-...</td>\n",
       "      <td>Loano</td>\n",
       "    </tr>\n",
       "    <tr>\n",
       "      <th>6</th>\n",
       "      <td>appartamento VIA TERRE BIANCHE</td>\n",
       "      <td>844</td>\n",
       "      <td>https://www.booking.com/hotel/it/appartamento-...</td>\n",
       "      <td>Imperia</td>\n",
       "    </tr>\n",
       "    <tr>\n",
       "      <th>7</th>\n",
       "      <td>Villa Caterina</td>\n",
       "      <td>847</td>\n",
       "      <td>https://www.booking.com/hotel/it/villa-caterin...</td>\n",
       "      <td>Imperia</td>\n",
       "    </tr>\n",
       "    <tr>\n",
       "      <th>8</th>\n",
       "      <td>Belbea Tourist Resort **</td>\n",
       "      <td>859</td>\n",
       "      <td>https://www.booking.com/hotel/it/belbea-touris...</td>\n",
       "      <td>Loano</td>\n",
       "    </tr>\n",
       "  </tbody>\n",
       "</table>\n",
       "</div>"
      ],
      "text/plain": [
       "                                     House  Price  \\\n",
       "0                        Hotel Garden Lido    542   \n",
       "1            Villa Tanca Luxury Collection    575   \n",
       "2                       trilocale arredato    651   \n",
       "3  Locazione turistica Casa Nives (IMP169)    749   \n",
       "4                              Casa Franco    765   \n",
       "5               Appartamenti Tra gli Ulivi    770   \n",
       "6           appartamento VIA TERRE BIANCHE    844   \n",
       "7                           Villa Caterina    847   \n",
       "8                 Belbea Tourist Resort **    859   \n",
       "\n",
       "                                                Link        City  \n",
       "0  https://www.booking.com/hotel/it/grand-garden-...       Loano  \n",
       "1  https://www.booking.com/hotel/it/villa-tanca-l...  Monterosso  \n",
       "2  https://www.booking.com/hotel/it/trilocale-arr...       Loano  \n",
       "3  https://www.booking.com/hotel/it/locazione-tur...     Imperia  \n",
       "4  https://www.booking.com/hotel/it/casa-franco-f...       Loano  \n",
       "5  https://www.booking.com/hotel/it/appartamenti-...       Loano  \n",
       "6  https://www.booking.com/hotel/it/appartamento-...     Imperia  \n",
       "7  https://www.booking.com/hotel/it/villa-caterin...     Imperia  \n",
       "8  https://www.booking.com/hotel/it/belbea-touris...       Loano  "
      ]
     },
     "execution_count": 52,
     "metadata": {},
     "output_type": "execute_result"
    }
   ],
   "source": [
    "cities = [\"Monterosso\", \"Loano\", \"Imperia\", \"Savona\"]\n",
    "country   = \"Italy\"\n",
    "people    = 5\n",
    "in_day    = 20\n",
    "in_month  = 8\n",
    "in_year   = 2019\n",
    "out_day   = 27\n",
    "out_month = 8\n",
    "out_year  = 2019\n",
    "\n",
    "df = get_house_prices(cities, country, people, in_month, in_day, in_year, out_month, out_day, out_year)\n",
    "df.head(9)"
   ]
  },
  {
   "cell_type": "markdown",
   "metadata": {},
   "source": [
    "If you do not want to go through the detailed explanation of all the steps, you can simply copy and paste the function that you will find at the end of this article.\n",
    "\n",
    "## Walkthrough\n",
    "\n",
    "First things first, let's import the libraries that we are going to use."
   ]
  },
  {
   "cell_type": "code",
   "execution_count": 8,
   "metadata": {},
   "outputs": [],
   "source": [
    "import pandas as pd\n",
    "import requests\n",
    "from bs4 import BeautifulSoup"
   ]
  },
  {
   "cell_type": "markdown",
   "metadata": {},
   "source": [
    "Let's suppose you want to find a cheap place in Genova, and you want to spend a week with your four friends, from August 15 to August 22. We need to define a series of variables that we are going to use soon: check-in and check-out dates, number of people and city."
   ]
  },
  {
   "cell_type": "code",
   "execution_count": 9,
   "metadata": {},
   "outputs": [],
   "source": [
    "in_month  = 8\n",
    "in_day    = 15\n",
    "in_year   = 2019\n",
    "out_month = 8\n",
    "out_day   = 22\n",
    "out_year  = 2019\n",
    "people    = 5\n",
    "city      = \"Genova\"\n",
    "country   = \"Italy\""
   ]
  },
  {
   "cell_type": "markdown",
   "metadata": {},
   "source": [
    "In this example, we are going to scrape the information from booking.com, but you can adapt this code to any other website. Since we are going to do some web scraping, we need to set our User-Agent. On this page you can learn what a User-Agent is, please copy yours to your clipboard and paste it to the next variable that we are going to define. We will also define a variable called url that contains the web page that we will scrape the data from."
   ]
  },
  {
   "cell_type": "code",
   "execution_count": 25,
   "metadata": {},
   "outputs": [],
   "source": [
    "headers = {\"User-Agent\": \"paste_your_user_agent_here\"}\n",
    "url = \"https://www.booking.com/searchresults.it.html?checkin_month={in_month}&checkin_monthday={in_day}&checkin_year={in_year}&checkout_month={out_month}&checkout_monthday={out_day}&checkout_year={out_year}&group_adults={people}&group_children=0&order=price&ss={city}%2C%20{country}\"\\\n",
    ".format(in_month=in_month,\n",
    "       in_day=in_day,\n",
    "       in_year=in_year,\n",
    "       out_month=out_month,\n",
    "       out_day=out_day,\n",
    "       out_year=out_year,\n",
    "       people=people,\n",
    "       city=city,\n",
    "       country=country)"
   ]
  },
  {
   "cell_type": "markdown",
   "metadata": {},
   "source": [
    "Let's now check that everything is working fine, and let's create our BeautifulSoup object that is necessary for our web scraping."
   ]
  },
  {
   "cell_type": "code",
   "execution_count": 26,
   "metadata": {},
   "outputs": [
    {
     "name": "stdout",
     "output_type": "stream",
     "text": [
      "<Response [200]>\n"
     ]
    }
   ],
   "source": [
    "response = requests.get(url, headers=headers)\n",
    "soup = BeautifulSoup(response.text, \"lxml\")\n",
    "print(response)"
   ]
  },
  {
   "cell_type": "markdown",
   "metadata": {},
   "source": [
    "If our output is <Response [200]>, it means that we did everything correctly. If the number is not 200, go back and check that you did not miswrite your User-Agent.\n",
    "\n",
    "### Collect house prices\n",
    "\n",
    "We can finally start our web scraping and collect the prices of the ten cheapest houses in Genova."
   ]
  },
  {
   "cell_type": "code",
   "execution_count": 27,
   "metadata": {},
   "outputs": [],
   "source": [
    "prices = soup.find_all(\"div\", class_=\"prco-ltr-right-align-helper\")\n",
    "prices_list = [price.get_text().split(\"\\n\") for price in prices]"
   ]
  },
  {
   "cell_type": "markdown",
   "metadata": {},
   "source": [
    "If you print the object prices_list, you can see that the price of each house is hiding there. With the next few lines of code, we are going to extract it and to save everything into a pandas DataFrame."
   ]
  },
  {
   "cell_type": "code",
   "execution_count": 28,
   "metadata": {},
   "outputs": [],
   "source": [
    "prcs = []\n",
    "final_prices = dict()\n",
    "t = 3\n",
    "while t <= 30:\n",
    "    prcs.append(prices_list[t-2][2])\n",
    "    t+=3\n",
    "for i in range(len(prcs)):\n",
    "    final_prices[i] = prcs[i].replace(\"\\xa0\", \"\")\n",
    "final_prices = pd.DataFrame(final_prices, index=[\"Price\"]).T"
   ]
  },
  {
   "cell_type": "markdown",
   "metadata": {},
   "source": [
    "Once we have a dataframe containing the prices of the ten cheapest houses in Genova, we will add a column called \"ID\" that we will use to join this dataset with the others."
   ]
  },
  {
   "cell_type": "code",
   "execution_count": 15,
   "metadata": {},
   "outputs": [],
   "source": [
    "IDs = [i for i in range(10)]\n",
    "final_prices[\"ID\"] = IDs"
   ]
  },
  {
   "cell_type": "markdown",
   "metadata": {},
   "source": [
    "If you print the object final_prices, you will see something like this:"
   ]
  },
  {
   "cell_type": "code",
   "execution_count": 16,
   "metadata": {},
   "outputs": [
    {
     "data": {
      "text/html": [
       "<div>\n",
       "<style scoped>\n",
       "    .dataframe tbody tr th:only-of-type {\n",
       "        vertical-align: middle;\n",
       "    }\n",
       "\n",
       "    .dataframe tbody tr th {\n",
       "        vertical-align: top;\n",
       "    }\n",
       "\n",
       "    .dataframe thead th {\n",
       "        text-align: right;\n",
       "    }\n",
       "</style>\n",
       "<table border=\"1\" class=\"dataframe\">\n",
       "  <thead>\n",
       "    <tr style=\"text-align: right;\">\n",
       "      <th></th>\n",
       "      <th>Price</th>\n",
       "      <th>ID</th>\n",
       "    </tr>\n",
       "  </thead>\n",
       "  <tbody>\n",
       "    <tr>\n",
       "      <th>0</th>\n",
       "      <td>€1.630</td>\n",
       "      <td>0</td>\n",
       "    </tr>\n",
       "    <tr>\n",
       "      <th>1</th>\n",
       "      <td>€1.760</td>\n",
       "      <td>1</td>\n",
       "    </tr>\n",
       "    <tr>\n",
       "      <th>2</th>\n",
       "      <td>€1.663</td>\n",
       "      <td>2</td>\n",
       "    </tr>\n",
       "    <tr>\n",
       "      <th>3</th>\n",
       "      <td>€2.030</td>\n",
       "      <td>3</td>\n",
       "    </tr>\n",
       "    <tr>\n",
       "      <th>4</th>\n",
       "      <td>€2.240</td>\n",
       "      <td>4</td>\n",
       "    </tr>\n",
       "    <tr>\n",
       "      <th>5</th>\n",
       "      <td>€3.089</td>\n",
       "      <td>5</td>\n",
       "    </tr>\n",
       "    <tr>\n",
       "      <th>6</th>\n",
       "      <td>€2.376</td>\n",
       "      <td>6</td>\n",
       "    </tr>\n",
       "    <tr>\n",
       "      <th>7</th>\n",
       "      <td>€2.430</td>\n",
       "      <td>7</td>\n",
       "    </tr>\n",
       "    <tr>\n",
       "      <th>8</th>\n",
       "      <td>€2.775</td>\n",
       "      <td>8</td>\n",
       "    </tr>\n",
       "    <tr>\n",
       "      <th>9</th>\n",
       "      <td>€3.065</td>\n",
       "      <td>9</td>\n",
       "    </tr>\n",
       "  </tbody>\n",
       "</table>\n",
       "</div>"
      ],
      "text/plain": [
       "    Price  ID\n",
       "0  €1.630   0\n",
       "1  €1.760   1\n",
       "2  €1.663   2\n",
       "3  €2.030   3\n",
       "4  €2.240   4\n",
       "5  €3.089   5\n",
       "6  €2.376   6\n",
       "7  €2.430   7\n",
       "8  €2.775   8\n",
       "9  €3.065   9"
      ]
     },
     "execution_count": 16,
     "metadata": {},
     "output_type": "execute_result"
    }
   ],
   "source": [
    "final_prices"
   ]
  },
  {
   "cell_type": "markdown",
   "metadata": {},
   "source": [
    "### Collect house links\n",
    "\n",
    "Of course, at this point, you will want to match each price with its booking.com link, so that you can actually see the house whose price is listed in the previous object. This step is very similar to what we have just done."
   ]
  },
  {
   "cell_type": "code",
   "execution_count": 17,
   "metadata": {},
   "outputs": [],
   "source": [
    "links = soup.find_all(\"a\", class_=\"hotel_name_link url\")\n",
    "links_list = [\"https://www.booking.com\" + str(link.get(\"href\").replace(\"\\n\", \"\")) for link in links]\n",
    "final_links = pd.DataFrame(links_list[:10], columns=[\"Link\"])\n",
    "final_links[\"ID\"] = IDs"
   ]
  },
  {
   "cell_type": "markdown",
   "metadata": {},
   "source": [
    "Now we need to merge the two dataframes."
   ]
  },
  {
   "cell_type": "code",
   "execution_count": 18,
   "metadata": {},
   "outputs": [],
   "source": [
    "df = final_prices.merge(final_links, on=\"ID\")"
   ]
  },
  {
   "cell_type": "markdown",
   "metadata": {},
   "source": [
    "If you print df, you will see something that looks like this:"
   ]
  },
  {
   "cell_type": "code",
   "execution_count": 19,
   "metadata": {},
   "outputs": [
    {
     "data": {
      "text/html": [
       "<div>\n",
       "<style scoped>\n",
       "    .dataframe tbody tr th:only-of-type {\n",
       "        vertical-align: middle;\n",
       "    }\n",
       "\n",
       "    .dataframe tbody tr th {\n",
       "        vertical-align: top;\n",
       "    }\n",
       "\n",
       "    .dataframe thead th {\n",
       "        text-align: right;\n",
       "    }\n",
       "</style>\n",
       "<table border=\"1\" class=\"dataframe\">\n",
       "  <thead>\n",
       "    <tr style=\"text-align: right;\">\n",
       "      <th></th>\n",
       "      <th>Price</th>\n",
       "      <th>ID</th>\n",
       "      <th>Link</th>\n",
       "    </tr>\n",
       "  </thead>\n",
       "  <tbody>\n",
       "    <tr>\n",
       "      <th>0</th>\n",
       "      <td>€1.630</td>\n",
       "      <td>0</td>\n",
       "      <td>https://www.booking.com/hotel/it/albergo-posta...</td>\n",
       "    </tr>\n",
       "    <tr>\n",
       "      <th>1</th>\n",
       "      <td>€1.760</td>\n",
       "      <td>1</td>\n",
       "      <td>https://www.booking.com/hotel/it/novotelgenova...</td>\n",
       "    </tr>\n",
       "    <tr>\n",
       "      <th>2</th>\n",
       "      <td>€1.663</td>\n",
       "      <td>2</td>\n",
       "      <td>https://www.booking.com/hotel/it/albergo-panso...</td>\n",
       "    </tr>\n",
       "    <tr>\n",
       "      <th>3</th>\n",
       "      <td>€2.030</td>\n",
       "      <td>3</td>\n",
       "      <td>https://www.booking.com/hotel/it/la-piccola-ma...</td>\n",
       "    </tr>\n",
       "    <tr>\n",
       "      <th>4</th>\n",
       "      <td>€2.240</td>\n",
       "      <td>4</td>\n",
       "      <td>https://www.booking.com/hotel/it/memeapartment...</td>\n",
       "    </tr>\n",
       "    <tr>\n",
       "      <th>5</th>\n",
       "      <td>€3.089</td>\n",
       "      <td>5</td>\n",
       "      <td>https://www.booking.com/hotel/it/hotelmetropol...</td>\n",
       "    </tr>\n",
       "    <tr>\n",
       "      <th>6</th>\n",
       "      <td>€2.376</td>\n",
       "      <td>6</td>\n",
       "      <td>https://www.booking.com/hotel/it/genoa-city.it...</td>\n",
       "    </tr>\n",
       "    <tr>\n",
       "      <th>7</th>\n",
       "      <td>€2.430</td>\n",
       "      <td>7</td>\n",
       "      <td>https://www.booking.com/hotel/it/best-western-...</td>\n",
       "    </tr>\n",
       "    <tr>\n",
       "      <th>8</th>\n",
       "      <td>€2.775</td>\n",
       "      <td>8</td>\n",
       "      <td>https://www.booking.com/hotel/it/al-villino-br...</td>\n",
       "    </tr>\n",
       "    <tr>\n",
       "      <th>9</th>\n",
       "      <td>€3.065</td>\n",
       "      <td>9</td>\n",
       "      <td>https://www.booking.com/hotel/it/doria-genova....</td>\n",
       "    </tr>\n",
       "  </tbody>\n",
       "</table>\n",
       "</div>"
      ],
      "text/plain": [
       "    Price  ID                                               Link\n",
       "0  €1.630   0  https://www.booking.com/hotel/it/albergo-posta...\n",
       "1  €1.760   1  https://www.booking.com/hotel/it/novotelgenova...\n",
       "2  €1.663   2  https://www.booking.com/hotel/it/albergo-panso...\n",
       "3  €2.030   3  https://www.booking.com/hotel/it/la-piccola-ma...\n",
       "4  €2.240   4  https://www.booking.com/hotel/it/memeapartment...\n",
       "5  €3.089   5  https://www.booking.com/hotel/it/hotelmetropol...\n",
       "6  €2.376   6  https://www.booking.com/hotel/it/genoa-city.it...\n",
       "7  €2.430   7  https://www.booking.com/hotel/it/best-western-...\n",
       "8  €2.775   8  https://www.booking.com/hotel/it/al-villino-br...\n",
       "9  €3.065   9  https://www.booking.com/hotel/it/doria-genova...."
      ]
     },
     "execution_count": 19,
     "metadata": {},
     "output_type": "execute_result"
    }
   ],
   "source": [
    "df"
   ]
  },
  {
   "cell_type": "markdown",
   "metadata": {},
   "source": [
    "### Collect house names\n",
    "\n",
    "The last step is to collect the name of the hotels, in order to have a final dataframe that is more easily readable."
   ]
  },
  {
   "cell_type": "code",
   "execution_count": 20,
   "metadata": {},
   "outputs": [],
   "source": [
    "names = soup.find_all(\"span\", class_=\"sr-hotel__name\")\n",
    "names_list = [name.get_text() for name in names]\n",
    "for i in range(len(names_list)):\n",
    "    names_list[i] = names_list[i].replace(\"\\n\", \"\")\n",
    "houses = pd.DataFrame(names_list, columns=[\"House\"]).head(10)\n",
    "houses[\"ID\"] =  IDs\n",
    "df = houses.merge(df, on=\"ID\")"
   ]
  },
  {
   "cell_type": "markdown",
   "metadata": {},
   "source": [
    "If you print df, you will see something that looks like this:"
   ]
  },
  {
   "cell_type": "code",
   "execution_count": 21,
   "metadata": {},
   "outputs": [
    {
     "data": {
      "text/html": [
       "<div>\n",
       "<style scoped>\n",
       "    .dataframe tbody tr th:only-of-type {\n",
       "        vertical-align: middle;\n",
       "    }\n",
       "\n",
       "    .dataframe tbody tr th {\n",
       "        vertical-align: top;\n",
       "    }\n",
       "\n",
       "    .dataframe thead th {\n",
       "        text-align: right;\n",
       "    }\n",
       "</style>\n",
       "<table border=\"1\" class=\"dataframe\">\n",
       "  <thead>\n",
       "    <tr style=\"text-align: right;\">\n",
       "      <th></th>\n",
       "      <th>House</th>\n",
       "      <th>ID</th>\n",
       "      <th>Price</th>\n",
       "      <th>Link</th>\n",
       "    </tr>\n",
       "  </thead>\n",
       "  <tbody>\n",
       "    <tr>\n",
       "      <th>0</th>\n",
       "      <td>Albergo Posta</td>\n",
       "      <td>0</td>\n",
       "      <td>€1.630</td>\n",
       "      <td>https://www.booking.com/hotel/it/albergo-posta...</td>\n",
       "    </tr>\n",
       "    <tr>\n",
       "      <th>1</th>\n",
       "      <td>Novotel Genova City</td>\n",
       "      <td>1</td>\n",
       "      <td>€1.760</td>\n",
       "      <td>https://www.booking.com/hotel/it/novotelgenova...</td>\n",
       "    </tr>\n",
       "    <tr>\n",
       "      <th>2</th>\n",
       "      <td>Albergo Panson</td>\n",
       "      <td>2</td>\n",
       "      <td>€1.663</td>\n",
       "      <td>https://www.booking.com/hotel/it/albergo-panso...</td>\n",
       "    </tr>\n",
       "    <tr>\n",
       "      <th>3</th>\n",
       "      <td>La Piccola Maddalena</td>\n",
       "      <td>3</td>\n",
       "      <td>€2.030</td>\n",
       "      <td>https://www.booking.com/hotel/it/la-piccola-ma...</td>\n",
       "    </tr>\n",
       "    <tr>\n",
       "      <th>4</th>\n",
       "      <td>memeapartments</td>\n",
       "      <td>4</td>\n",
       "      <td>€2.240</td>\n",
       "      <td>https://www.booking.com/hotel/it/memeapartment...</td>\n",
       "    </tr>\n",
       "    <tr>\n",
       "      <th>5</th>\n",
       "      <td>Best Western Hotel Metropoli</td>\n",
       "      <td>5</td>\n",
       "      <td>€3.089</td>\n",
       "      <td>https://www.booking.com/hotel/it/hotelmetropol...</td>\n",
       "    </tr>\n",
       "    <tr>\n",
       "      <th>6</th>\n",
       "      <td>Holiday Inn Genoa City</td>\n",
       "      <td>6</td>\n",
       "      <td>€2.376</td>\n",
       "      <td>https://www.booking.com/hotel/it/genoa-city.it...</td>\n",
       "    </tr>\n",
       "    <tr>\n",
       "      <th>7</th>\n",
       "      <td>Best Western Porto Antico</td>\n",
       "      <td>7</td>\n",
       "      <td>€2.430</td>\n",
       "      <td>https://www.booking.com/hotel/it/best-western-...</td>\n",
       "    </tr>\n",
       "    <tr>\n",
       "      <th>8</th>\n",
       "      <td>Al Villino Bruzza</td>\n",
       "      <td>8</td>\n",
       "      <td>€2.775</td>\n",
       "      <td>https://www.booking.com/hotel/it/al-villino-br...</td>\n",
       "    </tr>\n",
       "    <tr>\n",
       "      <th>9</th>\n",
       "      <td>Hotel Doria</td>\n",
       "      <td>9</td>\n",
       "      <td>€3.065</td>\n",
       "      <td>https://www.booking.com/hotel/it/doria-genova....</td>\n",
       "    </tr>\n",
       "  </tbody>\n",
       "</table>\n",
       "</div>"
      ],
      "text/plain": [
       "                          House  ID   Price  \\\n",
       "0                 Albergo Posta   0  €1.630   \n",
       "1           Novotel Genova City   1  €1.760   \n",
       "2                Albergo Panson   2  €1.663   \n",
       "3          La Piccola Maddalena   3  €2.030   \n",
       "4                memeapartments   4  €2.240   \n",
       "5  Best Western Hotel Metropoli   5  €3.089   \n",
       "6        Holiday Inn Genoa City   6  €2.376   \n",
       "7     Best Western Porto Antico   7  €2.430   \n",
       "8             Al Villino Bruzza   8  €2.775   \n",
       "9                   Hotel Doria   9  €3.065   \n",
       "\n",
       "                                                Link  \n",
       "0  https://www.booking.com/hotel/it/albergo-posta...  \n",
       "1  https://www.booking.com/hotel/it/novotelgenova...  \n",
       "2  https://www.booking.com/hotel/it/albergo-panso...  \n",
       "3  https://www.booking.com/hotel/it/la-piccola-ma...  \n",
       "4  https://www.booking.com/hotel/it/memeapartment...  \n",
       "5  https://www.booking.com/hotel/it/hotelmetropol...  \n",
       "6  https://www.booking.com/hotel/it/genoa-city.it...  \n",
       "7  https://www.booking.com/hotel/it/best-western-...  \n",
       "8  https://www.booking.com/hotel/it/al-villino-br...  \n",
       "9  https://www.booking.com/hotel/it/doria-genova....  "
      ]
     },
     "execution_count": 21,
     "metadata": {},
     "output_type": "execute_result"
    }
   ],
   "source": [
    "df"
   ]
  },
  {
   "cell_type": "markdown",
   "metadata": {},
   "source": [
    "Awesome! Now we have the list of the ten cheapest places in Genova. But what if you want to compare the house prices in Genova with the prices of the nearby cities? We are now going to define a function that merges what we have done so far, and loops for each of the cities that we are interested in. If, for example, you also want to check the house prices in Monterosso, Loano, Imperia and Savona, our model will check the prices in all these cities and list all the hotels, starting from the cheapest.\n",
    "\n",
    "### Complete function that loops for each city\n",
    "\n",
    "As I mentioned above, this function simply brings together all the previous steps, and makes some adjustments. I will briefly describe each step here, and you will find the complete code at the end of this article.\n",
    "\n",
    "1. The function takes as an input a list of cities: even if you only want to check one single city, you need to put it into a list of one element. On the other hand, the variable country must be a string. The first thing the code does is to check that there are no mistakes in the inputs.\n",
    "2. Import the libraries and set the User-Agent.\n",
    "3. Initialize an empty dataframe. We need this because we will append to it all the dataframes containing the house prices for each city.\n",
    "4. Start the loop: at each cycle we update the name of the city.\n",
    "5. Get prices, url links and house names, as we did before.\n",
    "6. Append the dataframe that we have created for one city to the big dataframe that contains data about all the cities, and keep looping for the others.\n",
    "7. Once the loop has ended, we can get rid of the column ID, we then have to change the data type of the column \"Price\": we need it to be of numeric type, so that we can order each hotel by price. At the end, we sort the dataframe by price and Bob's your uncle! We can also export our result to a csv file.\n",
    "\n",
    "## Complete code"
   ]
  },
  {
   "cell_type": "code",
   "execution_count": 47,
   "metadata": {},
   "outputs": [],
   "source": [
    "import pandas as pd\n",
    "import requests\n",
    "from bs4 import BeautifulSoup\n",
    "\n",
    "def get_house_prices(cities, country, people, in_month, in_day, in_year, out_month, out_day, out_year):\n",
    "    \n",
    "    if not isinstance(cities, list):\n",
    "        raise TypeError(\"cities must be in a list\")\n",
    "    if not isinstance(country, str):\n",
    "        raise TypeError(\"country must be a string containing only one country\")\n",
    "    \n",
    "    # Import libraries and set headers\n",
    "    headers = {\"User-Agent\": \"paste_your_user_agent_here\"}\n",
    "    \n",
    "    # Initialize empty dataframe\n",
    "    final_df = pd.DataFrame()\n",
    "    \n",
    "    # Loop for each city\n",
    "    for city in cities:\n",
    "        url = \"https://www.booking.com/searchresults.it.html?checkin_month={in_month}&checkin_monthday={in_day}&checkin_year={in_year}&checkout_month={out_month}&checkout_monthday={out_day}&checkout_year={out_year}&group_adults={people}&group_children=0&order=price&ss={city}%2C%20{country}\"\\\n",
    "                .format(in_month=in_month,\n",
    "                        in_day=in_day,\n",
    "                        in_year=in_year,\n",
    "                        out_month=out_month,\n",
    "                        out_day=out_day,\n",
    "                        out_year=out_year,\n",
    "                        people=people,\n",
    "                        city=city,\n",
    "                        country=country)\n",
    "        response = requests.get(url, headers=headers)\n",
    "        soup = BeautifulSoup(response.text, \"lxml\")\n",
    "        \n",
    "        # Get prices\n",
    "        prices = soup.find_all(\"div\", class_=\"prco-ltr-right-align-helper\")\n",
    "        prices_list = [price.get_text().split(\"\\n\") for price in prices]\n",
    "        prcs = []\n",
    "        final_prices = dict()\n",
    "        t = 3\n",
    "        while t <= 30:\n",
    "            prcs.append(prices_list[t-2][2])\n",
    "            t+=3\n",
    "        for i in range(len(prcs)):\n",
    "            final_prices[i] = prcs[i].replace(\"\\xa0\", \"\")\n",
    "        final_prices = pd.DataFrame(final_prices, index=[\"Price\"]).T\n",
    "        IDs = [i for i in range(10)]\n",
    "        final_prices[\"ID\"] = IDs\n",
    "        \n",
    "        # Get url links\n",
    "        links = soup.find_all(\"a\", class_=\"hotel_name_link url\")\n",
    "        links_list = [\"https://www.booking.com\" + str(link.get(\"href\").replace(\"\\n\", \"\")) for link in links]\n",
    "        final_links = pd.DataFrame(links_list[:10], columns=[\"Link\"])\n",
    "        final_links[\"ID\"] = IDs\n",
    "        \n",
    "        # Merge the two dataframes\n",
    "        df = final_prices.merge(final_links, on=\"ID\")\n",
    "        \n",
    "        # Get house names\n",
    "        names = soup.find_all(\"span\", class_=\"sr-hotel__name\")\n",
    "        names_list = [name.get_text() for name in names]\n",
    "        for i in range(len(names_list)):\n",
    "            names_list[i] = names_list[i].replace(\"\\n\", \"\")\n",
    "        houses = pd.DataFrame(names_list, columns=[\"House\"]).head(10)\n",
    "        houses[\"ID\"] = IDs\n",
    "        \n",
    "        # Merge everything and append to the big dataframe\n",
    "        df = houses.merge(df, on=\"ID\")\n",
    "        df[\"City\"] = f\"{city}\"\n",
    "        final_df = final_df.append(df).reset_index(drop=True)\n",
    "    \n",
    "    # Final adjustment and sort\n",
    "    del final_df[\"ID\"]\n",
    "    for i in range(len(final_df)):\n",
    "        final_df.loc[i, \"Price\"] = final_df.loc[i, \"Price\"].replace(\"€\", \"\").replace(\".\", \"\")\n",
    "    final_df[\"Price\"] = final_df[\"Price\"].apply(pd.to_numeric)\n",
    "    final_df = final_df.sort_values([\"Price\"]).reset_index(drop=True)\n",
    "    \n",
    "    final_df.to_csv(\"houses.csv\")\n",
    "    \n",
    "    return final_df"
   ]
  }
 ],
 "metadata": {
  "hide_input": false,
  "kernelspec": {
   "display_name": "Python 3",
   "language": "python",
   "name": "python3"
  },
  "language_info": {
   "codemirror_mode": {
    "name": "ipython",
    "version": 3
   },
   "file_extension": ".py",
   "mimetype": "text/x-python",
   "name": "python",
   "nbconvert_exporter": "python",
   "pygments_lexer": "ipython3",
   "version": "3.7.3"
  },
  "latex_envs": {
   "LaTeX_envs_menu_present": true,
   "autoclose": true,
   "autocomplete": true,
   "bibliofile": "biblio.bib",
   "cite_by": "apalike",
   "current_citInitial": 1,
   "eqLabelWithNumbers": true,
   "eqNumInitial": 1,
   "hotkeys": {
    "equation": "Ctrl-E",
    "itemize": "Ctrl-I"
   },
   "labels_anchors": false,
   "latex_user_defs": false,
   "report_style_numbering": false,
   "user_envs_cfg": false
  },
  "toc": {
   "base_numbering": 1,
   "nav_menu": {},
   "number_sections": true,
   "sideBar": true,
   "skip_h1_title": true,
   "title_cell": "Table of Contents",
   "title_sidebar": "Contents",
   "toc_cell": true,
   "toc_position": {},
   "toc_section_display": true,
   "toc_window_display": false
  },
  "varInspector": {
   "cols": {
    "lenName": 16,
    "lenType": 16,
    "lenVar": 40
   },
   "kernels_config": {
    "python": {
     "delete_cmd_postfix": "",
     "delete_cmd_prefix": "del ",
     "library": "var_list.py",
     "varRefreshCmd": "print(var_dic_list())"
    },
    "r": {
     "delete_cmd_postfix": ") ",
     "delete_cmd_prefix": "rm(",
     "library": "var_list.r",
     "varRefreshCmd": "cat(var_dic_list()) "
    }
   },
   "types_to_exclude": [
    "module",
    "function",
    "builtin_function_or_method",
    "instance",
    "_Feature"
   ],
   "window_display": false
  }
 },
 "nbformat": 4,
 "nbformat_minor": 2
}
